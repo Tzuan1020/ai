{
 "cells": [
  {
   "cell_type": "code",
   "execution_count": 87,
   "id": "045cdd4b",
   "metadata": {},
   "outputs": [],
   "source": [
    "import pandas as pd\n",
    "import numpy as np\n",
    "import matplotlib.pyplot as plt\n",
    "import seaborn as sns"
   ]
  },
  {
   "cell_type": "code",
   "execution_count": 88,
   "id": "2c083ce9",
   "metadata": {},
   "outputs": [],
   "source": [
    "#載入資料\n",
    "df = pd.read_csv('Walmart.csv')"
   ]
  },
  {
   "cell_type": "code",
   "execution_count": 89,
   "id": "2ee22b29",
   "metadata": {},
   "outputs": [
    {
     "data": {
      "text/html": [
       "<div>\n",
       "<style scoped>\n",
       "    .dataframe tbody tr th:only-of-type {\n",
       "        vertical-align: middle;\n",
       "    }\n",
       "\n",
       "    .dataframe tbody tr th {\n",
       "        vertical-align: top;\n",
       "    }\n",
       "\n",
       "    .dataframe thead th {\n",
       "        text-align: right;\n",
       "    }\n",
       "</style>\n",
       "<table border=\"1\" class=\"dataframe\">\n",
       "  <thead>\n",
       "    <tr style=\"text-align: right;\">\n",
       "      <th></th>\n",
       "      <th>Store</th>\n",
       "      <th>Date</th>\n",
       "      <th>Weekly_Sales</th>\n",
       "      <th>Holiday_Flag</th>\n",
       "      <th>Temperature</th>\n",
       "      <th>Fuel_Price</th>\n",
       "      <th>CPI</th>\n",
       "      <th>Unemployment</th>\n",
       "    </tr>\n",
       "  </thead>\n",
       "  <tbody>\n",
       "    <tr>\n",
       "      <th>0</th>\n",
       "      <td>1</td>\n",
       "      <td>05-02-2010</td>\n",
       "      <td>1643690.90</td>\n",
       "      <td>0</td>\n",
       "      <td>42.31</td>\n",
       "      <td>2.572</td>\n",
       "      <td>211.096358</td>\n",
       "      <td>8.106</td>\n",
       "    </tr>\n",
       "    <tr>\n",
       "      <th>1</th>\n",
       "      <td>1</td>\n",
       "      <td>12-02-2010</td>\n",
       "      <td>1641957.44</td>\n",
       "      <td>1</td>\n",
       "      <td>38.51</td>\n",
       "      <td>2.548</td>\n",
       "      <td>211.242170</td>\n",
       "      <td>8.106</td>\n",
       "    </tr>\n",
       "    <tr>\n",
       "      <th>2</th>\n",
       "      <td>1</td>\n",
       "      <td>19-02-2010</td>\n",
       "      <td>1611968.17</td>\n",
       "      <td>0</td>\n",
       "      <td>39.93</td>\n",
       "      <td>2.514</td>\n",
       "      <td>211.289143</td>\n",
       "      <td>8.106</td>\n",
       "    </tr>\n",
       "    <tr>\n",
       "      <th>3</th>\n",
       "      <td>1</td>\n",
       "      <td>26-02-2010</td>\n",
       "      <td>1409727.59</td>\n",
       "      <td>0</td>\n",
       "      <td>46.63</td>\n",
       "      <td>2.561</td>\n",
       "      <td>211.319643</td>\n",
       "      <td>8.106</td>\n",
       "    </tr>\n",
       "    <tr>\n",
       "      <th>4</th>\n",
       "      <td>1</td>\n",
       "      <td>05-03-2010</td>\n",
       "      <td>1554806.68</td>\n",
       "      <td>0</td>\n",
       "      <td>46.50</td>\n",
       "      <td>2.625</td>\n",
       "      <td>211.350143</td>\n",
       "      <td>8.106</td>\n",
       "    </tr>\n",
       "    <tr>\n",
       "      <th>5</th>\n",
       "      <td>1</td>\n",
       "      <td>12-03-2010</td>\n",
       "      <td>1439541.59</td>\n",
       "      <td>0</td>\n",
       "      <td>57.79</td>\n",
       "      <td>2.667</td>\n",
       "      <td>211.380643</td>\n",
       "      <td>8.106</td>\n",
       "    </tr>\n",
       "    <tr>\n",
       "      <th>6</th>\n",
       "      <td>1</td>\n",
       "      <td>19-03-2010</td>\n",
       "      <td>1472515.79</td>\n",
       "      <td>0</td>\n",
       "      <td>54.58</td>\n",
       "      <td>2.720</td>\n",
       "      <td>211.215635</td>\n",
       "      <td>8.106</td>\n",
       "    </tr>\n",
       "    <tr>\n",
       "      <th>7</th>\n",
       "      <td>1</td>\n",
       "      <td>26-03-2010</td>\n",
       "      <td>1404429.92</td>\n",
       "      <td>0</td>\n",
       "      <td>51.45</td>\n",
       "      <td>2.732</td>\n",
       "      <td>211.018042</td>\n",
       "      <td>8.106</td>\n",
       "    </tr>\n",
       "    <tr>\n",
       "      <th>8</th>\n",
       "      <td>1</td>\n",
       "      <td>02-04-2010</td>\n",
       "      <td>1594968.28</td>\n",
       "      <td>0</td>\n",
       "      <td>62.27</td>\n",
       "      <td>2.719</td>\n",
       "      <td>210.820450</td>\n",
       "      <td>7.808</td>\n",
       "    </tr>\n",
       "    <tr>\n",
       "      <th>9</th>\n",
       "      <td>1</td>\n",
       "      <td>09-04-2010</td>\n",
       "      <td>1545418.53</td>\n",
       "      <td>0</td>\n",
       "      <td>65.86</td>\n",
       "      <td>2.770</td>\n",
       "      <td>210.622857</td>\n",
       "      <td>7.808</td>\n",
       "    </tr>\n",
       "  </tbody>\n",
       "</table>\n",
       "</div>"
      ],
      "text/plain": [
       "   Store        Date  Weekly_Sales  Holiday_Flag  Temperature  Fuel_Price  \\\n",
       "0      1  05-02-2010    1643690.90             0        42.31       2.572   \n",
       "1      1  12-02-2010    1641957.44             1        38.51       2.548   \n",
       "2      1  19-02-2010    1611968.17             0        39.93       2.514   \n",
       "3      1  26-02-2010    1409727.59             0        46.63       2.561   \n",
       "4      1  05-03-2010    1554806.68             0        46.50       2.625   \n",
       "5      1  12-03-2010    1439541.59             0        57.79       2.667   \n",
       "6      1  19-03-2010    1472515.79             0        54.58       2.720   \n",
       "7      1  26-03-2010    1404429.92             0        51.45       2.732   \n",
       "8      1  02-04-2010    1594968.28             0        62.27       2.719   \n",
       "9      1  09-04-2010    1545418.53             0        65.86       2.770   \n",
       "\n",
       "          CPI  Unemployment  \n",
       "0  211.096358         8.106  \n",
       "1  211.242170         8.106  \n",
       "2  211.289143         8.106  \n",
       "3  211.319643         8.106  \n",
       "4  211.350143         8.106  \n",
       "5  211.380643         8.106  \n",
       "6  211.215635         8.106  \n",
       "7  211.018042         8.106  \n",
       "8  210.820450         7.808  \n",
       "9  210.622857         7.808  "
      ]
     },
     "execution_count": 89,
     "metadata": {},
     "output_type": "execute_result"
    }
   ],
   "source": [
    "#看資料前10列\n",
    "df.head(10)"
   ]
  },
  {
   "cell_type": "code",
   "execution_count": 90,
   "id": "0cf4a528",
   "metadata": {},
   "outputs": [
    {
     "name": "stdout",
     "output_type": "stream",
     "text": [
      "<class 'pandas.core.frame.DataFrame'>\n",
      "RangeIndex: 6435 entries, 0 to 6434\n",
      "Data columns (total 8 columns):\n",
      " #   Column        Non-Null Count  Dtype  \n",
      "---  ------        --------------  -----  \n",
      " 0   Store         6435 non-null   int64  \n",
      " 1   Date          6435 non-null   object \n",
      " 2   Weekly_Sales  6435 non-null   float64\n",
      " 3   Holiday_Flag  6435 non-null   int64  \n",
      " 4   Temperature   6435 non-null   float64\n",
      " 5   Fuel_Price    6435 non-null   float64\n",
      " 6   CPI           6435 non-null   float64\n",
      " 7   Unemployment  6435 non-null   float64\n",
      "dtypes: float64(5), int64(2), object(1)\n",
      "memory usage: 402.3+ KB\n"
     ]
    }
   ],
   "source": [
    "#看資料型態\n",
    "df.info()"
   ]
  },
  {
   "cell_type": "code",
   "execution_count": 91,
   "id": "f7017e13",
   "metadata": {},
   "outputs": [
    {
     "data": {
      "text/html": [
       "<div>\n",
       "<style scoped>\n",
       "    .dataframe tbody tr th:only-of-type {\n",
       "        vertical-align: middle;\n",
       "    }\n",
       "\n",
       "    .dataframe tbody tr th {\n",
       "        vertical-align: top;\n",
       "    }\n",
       "\n",
       "    .dataframe thead th {\n",
       "        text-align: right;\n",
       "    }\n",
       "</style>\n",
       "<table border=\"1\" class=\"dataframe\">\n",
       "  <thead>\n",
       "    <tr style=\"text-align: right;\">\n",
       "      <th></th>\n",
       "      <th>Store</th>\n",
       "      <th>Weekly_Sales</th>\n",
       "      <th>Holiday_Flag</th>\n",
       "      <th>Temperature</th>\n",
       "      <th>Fuel_Price</th>\n",
       "      <th>CPI</th>\n",
       "      <th>Unemployment</th>\n",
       "    </tr>\n",
       "  </thead>\n",
       "  <tbody>\n",
       "    <tr>\n",
       "      <th>count</th>\n",
       "      <td>6435.000000</td>\n",
       "      <td>6.435000e+03</td>\n",
       "      <td>6435.000000</td>\n",
       "      <td>6435.000000</td>\n",
       "      <td>6435.000000</td>\n",
       "      <td>6435.000000</td>\n",
       "      <td>6435.000000</td>\n",
       "    </tr>\n",
       "    <tr>\n",
       "      <th>mean</th>\n",
       "      <td>23.000000</td>\n",
       "      <td>1.046965e+06</td>\n",
       "      <td>0.069930</td>\n",
       "      <td>60.663782</td>\n",
       "      <td>3.358607</td>\n",
       "      <td>171.578394</td>\n",
       "      <td>7.999151</td>\n",
       "    </tr>\n",
       "    <tr>\n",
       "      <th>std</th>\n",
       "      <td>12.988182</td>\n",
       "      <td>5.643666e+05</td>\n",
       "      <td>0.255049</td>\n",
       "      <td>18.444933</td>\n",
       "      <td>0.459020</td>\n",
       "      <td>39.356712</td>\n",
       "      <td>1.875885</td>\n",
       "    </tr>\n",
       "    <tr>\n",
       "      <th>min</th>\n",
       "      <td>1.000000</td>\n",
       "      <td>2.099862e+05</td>\n",
       "      <td>0.000000</td>\n",
       "      <td>-2.060000</td>\n",
       "      <td>2.472000</td>\n",
       "      <td>126.064000</td>\n",
       "      <td>3.879000</td>\n",
       "    </tr>\n",
       "    <tr>\n",
       "      <th>25%</th>\n",
       "      <td>12.000000</td>\n",
       "      <td>5.533501e+05</td>\n",
       "      <td>0.000000</td>\n",
       "      <td>47.460000</td>\n",
       "      <td>2.933000</td>\n",
       "      <td>131.735000</td>\n",
       "      <td>6.891000</td>\n",
       "    </tr>\n",
       "    <tr>\n",
       "      <th>50%</th>\n",
       "      <td>23.000000</td>\n",
       "      <td>9.607460e+05</td>\n",
       "      <td>0.000000</td>\n",
       "      <td>62.670000</td>\n",
       "      <td>3.445000</td>\n",
       "      <td>182.616521</td>\n",
       "      <td>7.874000</td>\n",
       "    </tr>\n",
       "    <tr>\n",
       "      <th>75%</th>\n",
       "      <td>34.000000</td>\n",
       "      <td>1.420159e+06</td>\n",
       "      <td>0.000000</td>\n",
       "      <td>74.940000</td>\n",
       "      <td>3.735000</td>\n",
       "      <td>212.743293</td>\n",
       "      <td>8.622000</td>\n",
       "    </tr>\n",
       "    <tr>\n",
       "      <th>max</th>\n",
       "      <td>45.000000</td>\n",
       "      <td>3.818686e+06</td>\n",
       "      <td>1.000000</td>\n",
       "      <td>100.140000</td>\n",
       "      <td>4.468000</td>\n",
       "      <td>227.232807</td>\n",
       "      <td>14.313000</td>\n",
       "    </tr>\n",
       "  </tbody>\n",
       "</table>\n",
       "</div>"
      ],
      "text/plain": [
       "             Store  Weekly_Sales  Holiday_Flag  Temperature   Fuel_Price  \\\n",
       "count  6435.000000  6.435000e+03   6435.000000  6435.000000  6435.000000   \n",
       "mean     23.000000  1.046965e+06      0.069930    60.663782     3.358607   \n",
       "std      12.988182  5.643666e+05      0.255049    18.444933     0.459020   \n",
       "min       1.000000  2.099862e+05      0.000000    -2.060000     2.472000   \n",
       "25%      12.000000  5.533501e+05      0.000000    47.460000     2.933000   \n",
       "50%      23.000000  9.607460e+05      0.000000    62.670000     3.445000   \n",
       "75%      34.000000  1.420159e+06      0.000000    74.940000     3.735000   \n",
       "max      45.000000  3.818686e+06      1.000000   100.140000     4.468000   \n",
       "\n",
       "               CPI  Unemployment  \n",
       "count  6435.000000   6435.000000  \n",
       "mean    171.578394      7.999151  \n",
       "std      39.356712      1.875885  \n",
       "min     126.064000      3.879000  \n",
       "25%     131.735000      6.891000  \n",
       "50%     182.616521      7.874000  \n",
       "75%     212.743293      8.622000  \n",
       "max     227.232807     14.313000  "
      ]
     },
     "execution_count": 91,
     "metadata": {},
     "output_type": "execute_result"
    }
   ],
   "source": [
    "df.describe()"
   ]
  },
  {
   "cell_type": "code",
   "execution_count": 92,
   "id": "48705a6e",
   "metadata": {},
   "outputs": [
    {
     "data": {
      "text/plain": [
       "Store           0\n",
       "Date            0\n",
       "Weekly_Sales    0\n",
       "Holiday_Flag    0\n",
       "Temperature     0\n",
       "Fuel_Price      0\n",
       "CPI             0\n",
       "Unemployment    0\n",
       "dtype: int64"
      ]
     },
     "execution_count": 92,
     "metadata": {},
     "output_type": "execute_result"
    }
   ],
   "source": [
    "#檢查有無遺漏值\n",
    "df.isna().sum()"
   ]
  },
  {
   "cell_type": "code",
   "execution_count": 93,
   "id": "f8a0fbaa",
   "metadata": {},
   "outputs": [
    {
     "data": {
      "text/plain": [
       "(6435, 8)"
      ]
     },
     "execution_count": 93,
     "metadata": {},
     "output_type": "execute_result"
    }
   ],
   "source": [
    "df.shape"
   ]
  },
  {
   "cell_type": "code",
   "execution_count": 94,
   "id": "998fec02",
   "metadata": {},
   "outputs": [],
   "source": [
    "#更改日期的顯示方式\n",
    "import datetime\n",
    "df[\"Date\"] = pd.to_datetime(df[\"Date\"] , format='%d-%m-%Y')\n",
    "df[\"weekday\"] = df[\"Date\"].dt.weekday\n",
    "df[\"month\"] = df[\"Date\"].dt.month\n",
    "df[\"year\"] = df[\"Date\"].dt.year\n",
    "df.head(10)"
   ]
  },
  {
   "cell_type": "code",
   "execution_count": 96,
   "id": "28a35eb8",
   "metadata": {},
   "outputs": [],
   "source": [
    "df = df.drop(columns = \"Date\")"
   ]
  },
  {
   "cell_type": "code",
   "execution_count": 97,
   "id": "ad6e77ca",
   "metadata": {},
   "outputs": [
    {
     "data": {
      "text/plain": [
       "array([0, 1], dtype=int64)"
      ]
     },
     "execution_count": 97,
     "metadata": {},
     "output_type": "execute_result"
    }
   ],
   "source": [
    "df[\"Holiday_Flag\"].unique()"
   ]
  },
  {
   "cell_type": "code",
   "execution_count": 98,
   "id": "0684fa93",
   "metadata": {},
   "outputs": [
    {
     "data": {
      "text/plain": [
       "4     630\n",
       "7     630\n",
       "3     585\n",
       "6     585\n",
       "8     585\n",
       "9     585\n",
       "10    585\n",
       "2     540\n",
       "5     540\n",
       "12    450\n",
       "11    360\n",
       "1     360\n",
       "Name: month, dtype: int64"
      ]
     },
     "execution_count": 98,
     "metadata": {},
     "output_type": "execute_result"
    }
   ],
   "source": [
    "df[\"month\"].value_counts()"
   ]
  },
  {
   "cell_type": "code",
   "execution_count": 99,
   "id": "d1486663",
   "metadata": {},
   "outputs": [
    {
     "data": {
      "text/plain": [
       "<matplotlib.collections.PathCollection at 0x252360da8e0>"
      ]
     },
     "execution_count": 99,
     "metadata": {},
     "output_type": "execute_result"
    },
    {
     "data": {
      "image/png": "[encoded data removed]",
      "text/plain": [
       "<Figure size 432x288 with 1 Axes>"
      ]
     },
     "metadata": {
      "needs_background": "light"
     },
     "output_type": "display_data"
    }
   ],
   "source": [
    "#每月銷售量\n",
    "one = df[\"month\"].value_counts()\n",
    "plt.scatter(x = df[\"month\"].unique() , y=one , marker = \".\" , c = \"purple\")"
   ]
  },
  {
   "cell_type": "code",
   "execution_count": 100,
   "id": "10ff587f",
   "metadata": {},
   "outputs": [
    {
     "data": {
      "image/png": "[encoded data removed]",
      "text/plain": [
       "<Figure size 432x288 with 1 Axes>"
      ]
     },
     "metadata": {
      "needs_background": "light"
     },
     "output_type": "display_data"
    }
   ],
   "source": [
    "sns.histplot(df['Weekly_Sales'], kde=True , color = \"red\")\n",
    "plt.title('Weekly Sales Distribution')\n",
    "plt.show()"
   ]
  },
  {
   "cell_type": "code",
   "execution_count": 101,
   "id": "38d1cd0d",
   "metadata": {},
   "outputs": [],
   "source": [
    "from sklearn.model_selection import train_test_split\n",
    "X = df.drop(columns = \"Weekly_Sales\")\n",
    "Y = df[\"Weekly_Sales\"]"
   ]
  },
  {
   "cell_type": "code",
   "execution_count": 102,
   "id": "b6022fd6",
   "metadata": {},
   "outputs": [],
   "source": [
    "#分割資料集\n",
    "X_train , X_test , Y_train , Y_test = train_test_split(X,Y , random_state=2 , test_size = 0.2)"
   ]
  },
  {
   "cell_type": "code",
   "execution_count": 103,
   "id": "0728c1b9",
   "metadata": {},
   "outputs": [],
   "source": [
    "#正歸化數據\n",
    "from sklearn.preprocessing import StandardScaler\n",
    "sc = StandardScaler()\n",
    "X_train = sc.fit_transform(X_train)\n",
    "X_test = sc.fit_transform(X_test)"
   ]
  },
  {
   "cell_type": "code",
   "execution_count": 104,
   "id": "144da5c7",
   "metadata": {
    "scrolled": true
   },
   "outputs": [
    {
     "name": "stdout",
     "output_type": "stream",
     "text": [
      "Requirement already satisfied: catboost in c:\\users\\tzuan\\anaconda3\\lib\\site-packages (1.2.5)\n",
      "Requirement already satisfied: plotly in c:\\users\\tzuan\\anaconda3\\lib\\site-packages (from catboost) (4.14.1)\n",
      "Requirement already satisfied: pandas>=0.24 in c:\\users\\tzuan\\anaconda3\\lib\\site-packages (from catboost) (1.4.2)\n",
      "Requirement already satisfied: six in c:\\users\\tzuan\\anaconda3\\lib\\site-packages (from catboost) (1.16.0)\n",
      "Requirement already satisfied: graphviz in c:\\users\\tzuan\\anaconda3\\lib\\site-packages (from catboost) (0.20.3)\n",
      "Requirement already satisfied: scipy in c:\\users\\tzuan\\anaconda3\\lib\\site-packages (from catboost) (1.7.3)\n",
      "Requirement already satisfied: matplotlib in c:\\users\\tzuan\\anaconda3\\lib\\site-packages (from catboost) (3.5.1)\n",
      "Requirement already satisfied: numpy>=1.16.0 in c:\\users\\tzuan\\anaconda3\\lib\\site-packages (from catboost) (1.21.5)\n",
      "Requirement already satisfied: python-dateutil>=2.8.1 in c:\\users\\tzuan\\anaconda3\\lib\\site-packages (from pandas>=0.24->catboost) (2.8.2)\n",
      "Requirement already satisfied: pytz>=2020.1 in c:\\users\\tzuan\\anaconda3\\lib\\site-packages (from pandas>=0.24->catboost) (2021.3)\n",
      "Requirement already satisfied: kiwisolver>=1.0.1 in c:\\users\\tzuan\\anaconda3\\lib\\site-packages (from matplotlib->catboost) (1.3.2)\n",
      "Requirement already satisfied: packaging>=20.0 in c:\\users\\tzuan\\anaconda3\\lib\\site-packages (from matplotlib->catboost) (21.3)\n",
      "Requirement already satisfied: fonttools>=4.22.0 in c:\\users\\tzuan\\anaconda3\\lib\\site-packages (from matplotlib->catboost) (4.25.0)\n",
      "Requirement already satisfied: cycler>=0.10 in c:\\users\\tzuan\\anaconda3\\lib\\site-packages (from matplotlib->catboost) (0.11.0)\n",
      "Requirement already satisfied: pyparsing>=2.2.1 in c:\\users\\tzuan\\anaconda3\\lib\\site-packages (from matplotlib->catboost) (3.0.4)\n",
      "Requirement already satisfied: pillow>=6.2.0 in c:\\users\\tzuan\\anaconda3\\lib\\site-packages (from matplotlib->catboost) (9.0.1)\n",
      "Requirement already satisfied: retrying>=1.3.3 in c:\\users\\tzuan\\anaconda3\\lib\\site-packages (from plotly->catboost) (1.3.4)\n"
     ]
    }
   ],
   "source": [
    "!pip install catboost"
   ]
  },
  {
   "cell_type": "code",
   "execution_count": 105,
   "id": "8451d44c",
   "metadata": {},
   "outputs": [],
   "source": [
    "from catboost import CatBoostRegressor"
   ]
  },
  {
   "cell_type": "code",
   "execution_count": 106,
   "id": "6b32345e",
   "metadata": {},
   "outputs": [],
   "source": [
    "#設置參數\n",
    "params = {'random_strength': 1 , 'n_estimators': 100,'max_depth': 7 , 'loss_function':'RMSE' , 'learning_rate' : 0.1 ,  'colsample_bylevel': 0.8,\n",
    "         'bootstrap_type': 'MVS', 'bagging_temperature': 1.0}"
   ]
  },
  {
   "cell_type": "code",
   "execution_count": 107,
   "id": "4ec3468e",
   "metadata": {},
   "outputs": [
    {
     "name": "stdout",
     "output_type": "stream",
     "text": [
      "0:\tlearn: 535685.5955847\ttotal: 2.08ms\tremaining: 206ms\n",
      "1:\tlearn: 515013.0458057\ttotal: 4.31ms\tremaining: 211ms\n",
      "2:\tlearn: 495607.2881135\ttotal: 6.84ms\tremaining: 221ms\n",
      "3:\tlearn: 476039.2023009\ttotal: 9.25ms\tremaining: 222ms\n",
      "4:\tlearn: 456112.8062116\ttotal: 11.6ms\tremaining: 220ms\n",
      "5:\tlearn: 445239.6356855\ttotal: 13.7ms\tremaining: 215ms\n",
      "6:\tlearn: 432390.3999362\ttotal: 16.2ms\tremaining: 216ms\n",
      "7:\tlearn: 419476.6812535\ttotal: 18.1ms\tremaining: 209ms\n",
      "8:\tlearn: 404002.2607145\ttotal: 20.4ms\tremaining: 206ms\n",
      "9:\tlearn: 393112.2978857\ttotal: 22.4ms\tremaining: 202ms\n",
      "10:\tlearn: 383003.4099590\ttotal: 24.8ms\tremaining: 200ms\n",
      "11:\tlearn: 372235.2573175\ttotal: 26.8ms\tremaining: 197ms\n",
      "12:\tlearn: 363561.5521178\ttotal: 29ms\tremaining: 194ms\n",
      "13:\tlearn: 358363.3839748\ttotal: 31.1ms\tremaining: 191ms\n",
      "14:\tlearn: 349688.1842527\ttotal: 33.6ms\tremaining: 190ms\n",
      "15:\tlearn: 338669.6244143\ttotal: 35.8ms\tremaining: 188ms\n",
      "16:\tlearn: 330657.2351312\ttotal: 37.9ms\tremaining: 185ms\n",
      "17:\tlearn: 321421.1694775\ttotal: 40.2ms\tremaining: 183ms\n",
      "18:\tlearn: 317421.4019183\ttotal: 42.3ms\tremaining: 180ms\n",
      "19:\tlearn: 310903.6096104\ttotal: 44.8ms\tremaining: 179ms\n",
      "20:\tlearn: 302285.4999380\ttotal: 47.1ms\tremaining: 177ms\n",
      "21:\tlearn: 298040.8922775\ttotal: 49.2ms\tremaining: 175ms\n",
      "22:\tlearn: 294517.7433810\ttotal: 51.6ms\tremaining: 173ms\n",
      "23:\tlearn: 288725.8581256\ttotal: 53.9ms\tremaining: 171ms\n",
      "24:\tlearn: 285885.3765739\ttotal: 56.3ms\tremaining: 169ms\n",
      "25:\tlearn: 282631.5035941\ttotal: 58.6ms\tremaining: 167ms\n",
      "26:\tlearn: 280403.9141695\ttotal: 60.6ms\tremaining: 164ms\n",
      "27:\tlearn: 273864.6057052\ttotal: 63ms\tremaining: 162ms\n",
      "28:\tlearn: 268399.1019951\ttotal: 65.1ms\tremaining: 159ms\n",
      "29:\tlearn: 265485.6947983\ttotal: 67.4ms\tremaining: 157ms\n",
      "30:\tlearn: 262205.8766716\ttotal: 69.4ms\tremaining: 155ms\n",
      "31:\tlearn: 259892.4162635\ttotal: 71.7ms\tremaining: 152ms\n",
      "32:\tlearn: 252737.4350907\ttotal: 73.8ms\tremaining: 150ms\n",
      "33:\tlearn: 248866.4742550\ttotal: 76.1ms\tremaining: 148ms\n",
      "34:\tlearn: 243745.4019194\ttotal: 78.3ms\tremaining: 145ms\n",
      "35:\tlearn: 241200.0276890\ttotal: 80.3ms\tremaining: 143ms\n",
      "36:\tlearn: 236570.1994191\ttotal: 82.6ms\tremaining: 141ms\n",
      "37:\tlearn: 232654.7572266\ttotal: 84.8ms\tremaining: 138ms\n",
      "38:\tlearn: 230119.6490959\ttotal: 87ms\tremaining: 136ms\n",
      "39:\tlearn: 226926.3178881\ttotal: 89.2ms\tremaining: 134ms\n",
      "40:\tlearn: 225796.6217853\ttotal: 90.7ms\tremaining: 131ms\n",
      "41:\tlearn: 222252.5991899\ttotal: 92.9ms\tremaining: 128ms\n",
      "42:\tlearn: 218742.7962248\ttotal: 94.9ms\tremaining: 126ms\n",
      "43:\tlearn: 217330.6387280\ttotal: 97.2ms\tremaining: 124ms\n",
      "44:\tlearn: 215394.4430289\ttotal: 99.4ms\tremaining: 121ms\n",
      "45:\tlearn: 214114.9147151\ttotal: 101ms\tremaining: 119ms\n",
      "46:\tlearn: 212959.2020420\ttotal: 104ms\tremaining: 117ms\n",
      "47:\tlearn: 208706.8533434\ttotal: 106ms\tremaining: 114ms\n",
      "48:\tlearn: 207291.6669148\ttotal: 108ms\tremaining: 113ms\n",
      "49:\tlearn: 204309.0837815\ttotal: 110ms\tremaining: 110ms\n",
      "50:\tlearn: 202516.9835574\ttotal: 113ms\tremaining: 108ms\n",
      "51:\tlearn: 200256.4375312\ttotal: 115ms\tremaining: 106ms\n",
      "52:\tlearn: 196429.5514417\ttotal: 117ms\tremaining: 104ms\n",
      "53:\tlearn: 194443.8209664\ttotal: 119ms\tremaining: 101ms\n",
      "54:\tlearn: 192469.5871404\ttotal: 121ms\tremaining: 99.2ms\n",
      "55:\tlearn: 191542.7102490\ttotal: 124ms\tremaining: 97.1ms\n",
      "56:\tlearn: 188397.3597544\ttotal: 126ms\tremaining: 94.9ms\n",
      "57:\tlearn: 186767.1448263\ttotal: 128ms\tremaining: 92.6ms\n",
      "58:\tlearn: 184811.9290487\ttotal: 130ms\tremaining: 90.4ms\n",
      "59:\tlearn: 183029.7867425\ttotal: 132ms\tremaining: 88.1ms\n",
      "60:\tlearn: 182248.6870224\ttotal: 134ms\tremaining: 85.9ms\n",
      "61:\tlearn: 180230.7528960\ttotal: 137ms\tremaining: 83.7ms\n",
      "62:\tlearn: 177898.6317331\ttotal: 139ms\tremaining: 81.5ms\n",
      "63:\tlearn: 176946.9478825\ttotal: 141ms\tremaining: 79.2ms\n",
      "64:\tlearn: 176433.0303861\ttotal: 143ms\tremaining: 77ms\n",
      "65:\tlearn: 174778.4712678\ttotal: 145ms\tremaining: 74.7ms\n",
      "66:\tlearn: 172460.8651084\ttotal: 147ms\tremaining: 72.5ms\n",
      "67:\tlearn: 171420.7802475\ttotal: 149ms\tremaining: 70.3ms\n",
      "68:\tlearn: 170007.2644131\ttotal: 152ms\tremaining: 68.1ms\n",
      "69:\tlearn: 169186.3501803\ttotal: 154ms\tremaining: 65.9ms\n",
      "70:\tlearn: 166841.5063447\ttotal: 156ms\tremaining: 63.6ms\n",
      "71:\tlearn: 164964.9614563\ttotal: 158ms\tremaining: 61.4ms\n",
      "72:\tlearn: 163582.7187319\ttotal: 160ms\tremaining: 59.2ms\n",
      "73:\tlearn: 162632.0632593\ttotal: 162ms\tremaining: 57.1ms\n",
      "74:\tlearn: 161122.9428948\ttotal: 165ms\tremaining: 54.9ms\n",
      "75:\tlearn: 159765.3559416\ttotal: 167ms\tremaining: 52.6ms\n",
      "76:\tlearn: 158946.1209259\ttotal: 169ms\tremaining: 50.4ms\n",
      "77:\tlearn: 157565.3173916\ttotal: 171ms\tremaining: 48.2ms\n",
      "78:\tlearn: 156525.6351418\ttotal: 173ms\tremaining: 46ms\n",
      "79:\tlearn: 154525.2993720\ttotal: 175ms\tremaining: 43.8ms\n",
      "80:\tlearn: 153572.1163238\ttotal: 178ms\tremaining: 41.6ms\n",
      "81:\tlearn: 152695.0623885\ttotal: 180ms\tremaining: 39.4ms\n",
      "82:\tlearn: 151201.3196662\ttotal: 182ms\tremaining: 37.2ms\n",
      "83:\tlearn: 150528.6994265\ttotal: 184ms\tremaining: 35ms\n",
      "84:\tlearn: 149392.2969657\ttotal: 186ms\tremaining: 32.9ms\n",
      "85:\tlearn: 148649.3865871\ttotal: 188ms\tremaining: 30.7ms\n",
      "86:\tlearn: 147272.7685427\ttotal: 191ms\tremaining: 28.5ms\n",
      "87:\tlearn: 145984.7745077\ttotal: 193ms\tremaining: 26.3ms\n",
      "88:\tlearn: 145392.8990539\ttotal: 195ms\tremaining: 24.1ms\n",
      "89:\tlearn: 144812.3733278\ttotal: 197ms\tremaining: 21.9ms\n",
      "90:\tlearn: 143622.1609635\ttotal: 199ms\tremaining: 19.7ms\n",
      "91:\tlearn: 141955.4550927\ttotal: 202ms\tremaining: 17.5ms\n",
      "92:\tlearn: 140913.5597895\ttotal: 204ms\tremaining: 15.3ms\n",
      "93:\tlearn: 140037.8533454\ttotal: 206ms\tremaining: 13.1ms\n",
      "94:\tlearn: 138981.3367773\ttotal: 208ms\tremaining: 10.9ms\n",
      "95:\tlearn: 137905.3318825\ttotal: 210ms\tremaining: 8.76ms\n",
      "96:\tlearn: 137173.1368513\ttotal: 212ms\tremaining: 6.57ms\n",
      "97:\tlearn: 136238.2356069\ttotal: 214ms\tremaining: 4.38ms\n",
      "98:\tlearn: 134934.2298060\ttotal: 217ms\tremaining: 2.19ms\n",
      "99:\tlearn: 133952.2599652\ttotal: 219ms\tremaining: 0us\n"
     ]
    },
    {
     "data": {
      "text/plain": [
       "<catboost.core.CatBoostRegressor at 0x252361788b0>"
      ]
     },
     "execution_count": 107,
     "metadata": {},
     "output_type": "execute_result"
    }
   ],
   "source": [
    "#訓練模型\n",
    "model1 = CatBoostRegressor(**params)\n",
    "X = X.select_dtypes(include = ['float64' , 'int64'])\n",
    "model1.fit(X , Y)"
   ]
  },
  {
   "cell_type": "code",
   "execution_count": 108,
   "id": "1a578244",
   "metadata": {},
   "outputs": [],
   "source": [
    "model1_predict = model1.predict(X)"
   ]
  },
  {
   "cell_type": "code",
   "execution_count": 109,
   "id": "5398a946",
   "metadata": {},
   "outputs": [
    {
     "data": {
      "text/plain": [
       "0.9436563550164426"
      ]
     },
     "execution_count": 109,
     "metadata": {},
     "output_type": "execute_result"
    }
   ],
   "source": [
    "#訓練分數\n",
    "model1_score = model1.score(X,Y)\n",
    "model1_score"
   ]
  },
  {
   "cell_type": "code",
   "execution_count": 110,
   "id": "afd1c079",
   "metadata": {},
   "outputs": [
    {
     "name": "stdout",
     "output_type": "stream",
     "text": [
      "MSE:  17943207753.441357\n",
      "MAE:  91235.42353297365\n",
      "R2:  0.9436563550164426\n",
      "RMSE:  133952.25923231515\n"
     ]
    }
   ],
   "source": [
    "from sklearn.metrics import mean_squared_error\n",
    "from sklearn.metrics import mean_absolute_error\n",
    "from sklearn.metrics import r2_score\n",
    "\n",
    "print(\"MSE: \", mean_squared_error(Y, model1_predict))\n",
    "print(\"MAE: \", mean_absolute_error(Y, model1_predict))\n",
    "print(\"R2: \", r2_score(Y, model1_predict))\n",
    "print(\"RMSE: \", mean_squared_error(Y, model1_predict, squared=False))"
   ]
  },
  {
   "cell_type": "code",
   "execution_count": 111,
   "id": "f4db55c2",
   "metadata": {},
   "outputs": [
    {
     "data": {
      "image/png": "[encoded data removed]",
      "text/plain": [
       "<Figure size 432x288 with 1 Axes>"
      ]
     },
     "metadata": {
      "needs_background": "light"
     },
     "output_type": "display_data"
    }
   ],
   "source": [
    "#將結果畫成圖表\n",
    "plt.scatter(Y , model1_predict , marker = \".\" , color = \"blue\")\n",
    "plt.plot([min(Y), max(Y)], [min(Y), max(Y)],linestyle='--', color='black', linewidth=2)\n",
    "plt.xlabel(\"original Values\")\n",
    "plt.ylabel(\"Predict\")\n",
    "plt.title(\"Catboost Regressor Predictions & True Values\")\n",
    "plt.show()"
   ]
  },
  {
   "cell_type": "code",
   "execution_count": 112,
   "id": "2b81502f",
   "metadata": {},
   "outputs": [],
   "source": [
    "from sklearn.ensemble import RandomForestRegressor\n",
    "from xgboost import XGBRegressor"
   ]
  },
  {
   "cell_type": "code",
   "execution_count": 113,
   "id": "5b5cb935",
   "metadata": {},
   "outputs": [
    {
     "name": "stdout",
     "output_type": "stream",
     "text": [
      "Requirement already satisfied: xgboost in c:\\users\\tzuan\\anaconda3\\lib\\site-packages (2.0.3)\n",
      "Requirement already satisfied: scipy in c:\\users\\tzuan\\anaconda3\\lib\\site-packages (from xgboost) (1.7.3)\n",
      "Requirement already satisfied: numpy in c:\\users\\tzuan\\anaconda3\\lib\\site-packages (from xgboost) (1.21.5)\n"
     ]
    }
   ],
   "source": [
    "!pip install xgboost"
   ]
  },
  {
   "cell_type": "code",
   "execution_count": 114,
   "id": "460d5e7b",
   "metadata": {},
   "outputs": [],
   "source": [
    "#準備第二個模型的訓練集跟測試集\n",
    "X_train , X_test , Y_train , Y_test = train_test_split(X,Y , random_state=42 , test_size = 0.2)\n",
    "model2 = RandomForestRegressor(n_estimators = 300 , random_state = 42)"
   ]
  },
  {
   "cell_type": "code",
   "execution_count": 115,
   "id": "3d439201",
   "metadata": {},
   "outputs": [
    {
     "data": {
      "text/html": [
       "<style>#sk-container-id-4 {color: black;background-color: white;}#sk-container-id-4 pre{padding: 0;}#sk-container-id-4 div.sk-toggleable {background-color: white;}#sk-container-id-4 label.sk-toggleable__label {cursor: pointer;display: block;width: 100%;margin-bottom: 0;padding: 0.3em;box-sizing: border-box;text-align: center;}#sk-container-id-4 label.sk-toggleable__label-arrow:before {content: \"▸\";float: left;margin-right: 0.25em;color: #696969;}#sk-container-id-4 label.sk-toggleable__label-arrow:hover:before {color: black;}#sk-container-id-4 div.sk-estimator:hover label.sk-toggleable__label-arrow:before {color: black;}#sk-container-id-4 div.sk-toggleable__content {max-height: 0;max-width: 0;overflow: hidden;text-align: left;background-color: #f0f8ff;}#sk-container-id-4 div.sk-toggleable__content pre {margin: 0.2em;color: black;border-radius: 0.25em;background-color: #f0f8ff;}#sk-container-id-4 input.sk-toggleable__control:checked~div.sk-toggleable__content {max-height: 200px;max-width: 100%;overflow: auto;}#sk-container-id-4 input.sk-toggleable__control:checked~label.sk-toggleable__label-arrow:before {content: \"▾\";}#sk-container-id-4 div.sk-estimator input.sk-toggleable__control:checked~label.sk-toggleable__label {background-color: #d4ebff;}#sk-container-id-4 div.sk-label input.sk-toggleable__control:checked~label.sk-toggleable__label {background-color: #d4ebff;}#sk-container-id-4 input.sk-hidden--visually {border: 0;clip: rect(1px 1px 1px 1px);clip: rect(1px, 1px, 1px, 1px);height: 1px;margin: -1px;overflow: hidden;padding: 0;position: absolute;width: 1px;}#sk-container-id-4 div.sk-estimator {font-family: monospace;background-color: #f0f8ff;border: 1px dotted black;border-radius: 0.25em;box-sizing: border-box;margin-bottom: 0.5em;}#sk-container-id-4 div.sk-estimator:hover {background-color: #d4ebff;}#sk-container-id-4 div.sk-parallel-item::after {content: \"\";width: 100%;border-bottom: 1px solid gray;flex-grow: 1;}#sk-container-id-4 div.sk-label:hover label.sk-toggleable__label {background-color: #d4ebff;}#sk-container-id-4 div.sk-serial::before {content: \"\";position: absolute;border-left: 1px solid gray;box-sizing: border-box;top: 0;bottom: 0;left: 50%;z-index: 0;}#sk-container-id-4 div.sk-serial {display: flex;flex-direction: column;align-items: center;background-color: white;padding-right: 0.2em;padding-left: 0.2em;position: relative;}#sk-container-id-4 div.sk-item {position: relative;z-index: 1;}#sk-container-id-4 div.sk-parallel {display: flex;align-items: stretch;justify-content: center;background-color: white;position: relative;}#sk-container-id-4 div.sk-item::before, #sk-container-id-4 div.sk-parallel-item::before {content: \"\";position: absolute;border-left: 1px solid gray;box-sizing: border-box;top: 0;bottom: 0;left: 50%;z-index: -1;}#sk-container-id-4 div.sk-parallel-item {display: flex;flex-direction: column;z-index: 1;position: relative;background-color: white;}#sk-container-id-4 div.sk-parallel-item:first-child::after {align-self: flex-end;width: 50%;}#sk-container-id-4 div.sk-parallel-item:last-child::after {align-self: flex-start;width: 50%;}#sk-container-id-4 div.sk-parallel-item:only-child::after {width: 0;}#sk-container-id-4 div.sk-dashed-wrapped {border: 1px dashed gray;margin: 0 0.4em 0.5em 0.4em;box-sizing: border-box;padding-bottom: 0.4em;background-color: white;}#sk-container-id-4 div.sk-label label {font-family: monospace;font-weight: bold;display: inline-block;line-height: 1.2em;}#sk-container-id-4 div.sk-label-container {text-align: center;}#sk-container-id-4 div.sk-container {/* jupyter's `normalize.less` sets `[hidden] { display: none; }` but bootstrap.min.css set `[hidden] { display: none !important; }` so we also need the `!important` here to be able to override the default hidden behavior on the sphinx rendered scikit-learn.org. See: https://github.com/scikit-learn/scikit-learn/issues/21755 */display: inline-block !important;position: relative;}#sk-container-id-4 div.sk-text-repr-fallback {display: none;}</style><div id=\"sk-container-id-4\" class=\"sk-top-container\"><div class=\"sk-text-repr-fallback\"><pre>RandomForestRegressor(n_estimators=300, random_state=42)</pre><b>In a Jupyter environment, please rerun this cell to show the HTML representation or trust the notebook. <br />On GitHub, the HTML representation is unable to render, please try loading this page with nbviewer.org.</b></div><div class=\"sk-container\" hidden><div class=\"sk-item\"><div class=\"sk-estimator sk-toggleable\"><input class=\"sk-toggleable__control sk-hidden--visually\" id=\"sk-estimator-id-4\" type=\"checkbox\" checked><label for=\"sk-estimator-id-4\" class=\"sk-toggleable__label sk-toggleable__label-arrow\">RandomForestRegressor</label><div class=\"sk-toggleable__content\"><pre>RandomForestRegressor(n_estimators=300, random_state=42)</pre></div></div></div></div></div>"
      ],
      "text/plain": [
       "RandomForestRegressor(n_estimators=300, random_state=42)"
      ]
     },
     "execution_count": 115,
     "metadata": {},
     "output_type": "execute_result"
    }
   ],
   "source": [
    "model2.fit(X_train , Y_train)"
   ]
  },
  {
   "cell_type": "code",
   "execution_count": 116,
   "id": "b7aec429",
   "metadata": {},
   "outputs": [
    {
     "data": {
      "text/plain": [
       "Store           0.667110\n",
       "CPI             0.161667\n",
       "Unemployment    0.101746\n",
       "month           0.030326\n",
       "Temperature     0.018789\n",
       "Fuel_Price      0.014905\n",
       "Holiday_Flag    0.004674\n",
       "year            0.000783\n",
       "weekday         0.000000\n",
       "dtype: float64"
      ]
     },
     "execution_count": 116,
     "metadata": {},
     "output_type": "execute_result"
    }
   ],
   "source": [
    "#每一行的特徵分數\n",
    "feature_scores = pd.Series(model2.feature_importances_, index=X_train.columns).sort_values(ascending=False)\n",
    "\n",
    "# Display the feature scores\n",
    "feature_scores"
   ]
  },
  {
   "cell_type": "code",
   "execution_count": 117,
   "id": "2e410f8f",
   "metadata": {},
   "outputs": [
    {
     "name": "stdout",
     "output_type": "stream",
     "text": [
      "Training R²: 0.9922861202342411\n",
      "Test R²: 0.9409822893505512\n",
      "Training MSE: 2449289652.0465345\n",
      "Test MSE: 19012824879.952847\n"
     ]
    }
   ],
   "source": [
    "#訓練跟印出結果\n",
    "y_pred_train = model2.predict(X_train)\n",
    "y_pred_test = model2.predict(X_test)\n",
    "\n",
    "# 輸出訓練集和測試集上的R²（決定係數）\n",
    "train_score = r2_score(Y_train, y_pred_train)\n",
    "test_score = r2_score(Y_test, y_pred_test)\n",
    "\n",
    "print(f\"Training R²: {train_score}\")\n",
    "print(f\"Test R²: {test_score}\")\n",
    "\n",
    "# 如果需要，可以計算其他指標，比如均方誤差（MSE）\n",
    "train_mse = mean_squared_error(Y_train, y_pred_train)\n",
    "test_mse = mean_squared_error(Y_test, y_pred_test)\n",
    "\n",
    "print(f\"Training MSE: {train_mse}\")\n",
    "print(f\"Test MSE: {test_mse}\")"
   ]
  },
  {
   "cell_type": "code",
   "execution_count": 118,
   "id": "8464a824",
   "metadata": {},
   "outputs": [
    {
     "data": {
      "image/png": "[encoded data removed]",
      "text/plain": [
       "<Figure size 1152x576 with 2 Axes>"
      ]
     },
     "metadata": {
      "needs_background": "light"
     },
     "output_type": "display_data"
    }
   ],
   "source": [
    "plt.figure(figsize=(16, 8))\n",
    "\n",
    "# 訓練集圖形\n",
    "plt.subplot(1, 2, 1)\n",
    "plt.scatter(Y_train, y_pred_train, alpha=0.3, color='blue', edgecolors='w', linewidth=0.5)\n",
    "plt.plot([Y_train.min(), Y_train.max()], [Y_train.min(), Y_train.max()], 'r--', linewidth=2)\n",
    "plt.xlabel('Actual', fontsize=14)\n",
    "plt.ylabel('Predicted', fontsize=14)\n",
    "plt.title('Training Set: Actual vs Predicted', fontsize=16)\n",
    "plt.grid(True)\n",
    "\n",
    "# 測試集圖形\n",
    "plt.subplot(1, 2, 2)\n",
    "plt.scatter(Y_test, y_pred_test, alpha=0.3, color='green', edgecolors='w', linewidth=0.5)\n",
    "plt.plot([Y_test.min(), Y_test.max()], [Y_test.min(), Y_test.max()], 'r--', linewidth=2)\n",
    "plt.xlabel('Actual', fontsize=14)\n",
    "plt.ylabel('Predicted', fontsize=14)\n",
    "plt.title('Test Set: Actual vs Predicted', fontsize=16)\n",
    "plt.grid(True)\n",
    "\n",
    "plt.tight_layout()\n",
    "plt.suptitle('Random Forest Regressor: Actual vs Predicted Values', fontsize=18, y=1.02)\n",
    "plt.show()"
   ]
  },
  {
   "cell_type": "code",
   "execution_count": null,
   "id": "1c33a406",
   "metadata": {},
   "outputs": [],
   "source": []
  }
 ],
 "metadata": {
  "kernelspec": {
   "display_name": "Python 3 (ipykernel)",
   "language": "python",
   "name": "python3"
  },
  "language_info": {
   "codemirror_mode": {
    "name": "ipython",
    "version": 3
   },
   "file_extension": ".py",
   "mimetype": "text/x-python",
   "name": "python",
   "nbconvert_exporter": "python",
   "pygments_lexer": "ipython3",
   "version": "3.9.12"
  }
 },
 "nbformat": 4,
 "nbformat_minor": 5
}
